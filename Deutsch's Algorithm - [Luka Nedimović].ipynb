{
 "cells": [
  {
   "cell_type": "markdown",
   "metadata": {},
   "source": [
    "<h1 align=\"center\"> QBraid's QuBes course </h1>\n",
    "<h2 align=\"center\"> Deutsch's Algorithm </h1>\n",
    "<h3 align=\"center\"> Luka Nedimović </h1>"
   ]
  },
  {
   "cell_type": "markdown",
   "metadata": {},
   "source": [
    "<hr/>"
   ]
  },
  {
   "cell_type": "code",
   "execution_count": null,
   "metadata": {},
   "outputs": [],
   "source": [
    "from qiskit import * "
   ]
  },
  {
   "cell_type": "markdown",
   "metadata": {},
   "source": [
    "<hr/>"
   ]
  },
  {
   "cell_type": "markdown",
   "metadata": {},
   "source": [
    "<h2 align=\"center\"> Free response </h2>"
   ]
  },
  {
   "cell_type": "markdown",
   "metadata": {},
   "source": [
    "<h4> 1. What are balanced and constant functions? </h4>"
   ]
  },
  {
   "cell_type": "markdown",
   "metadata": {},
   "source": [
    "<h4> Answer: </h4>\n",
    "In the context of Deutsch's algorithm, Balanced functions are those that do following mapping:\n",
    "$$ f(0) = 0, f(1) = 1 $$ \n",
    "$$ f(0) = 1, f(1) = 0 $$\n",
    "We see that they give output of 0 50% of the time and same for the output of 1"
   ]
  },
  {
   "cell_type": "markdown",
   "metadata": {},
   "source": [
    "<h4> 2. In the set-up for Detusch's algorithm, why do we convert the black-box function f(x) to a different function U_f? </h4>"
   ]
  },
  {
   "cell_type": "markdown",
   "metadata": {},
   "source": [
    "<h4> Answer: </h4> We convert black-box function $f(x)$ to different function $U_f$ because the function $f(x)$ (whether it is constant or balanced) is not unitary - it doesn't map orthogonal states to orthogonal states."
   ]
  },
  {
   "cell_type": "markdown",
   "metadata": {},
   "source": [
    "<h4> 3. We saw that placing the first qubit in the $|+\\rangle$ state allowed us to obtain a state that included $|0\\rangle$ and $|1\\rangle$. What prevented us from developing a solution to our problem? </h4>"
   ]
  },
  {
   "cell_type": "markdown",
   "metadata": {},
   "source": [
    "<h4> Answer: </h4>\n",
    "If we assume that the state of the second qubit is $|0\\rangle$, then in the end (when multiplying everything with $U_f$ and simplifying it) we get the state $|\\psi\\rangle$ = $\\frac{1}{\\sqrt{2}}|0\\rangle|f(0)\\rangle + \n",
    "\\frac{1}{\\sqrt{2}}|1\\rangle|f(1)\\rangle$. We can see that, when measuring the second qubit, we can gain information of either $f(0)$ or $f(1)$."
   ]
  },
  {
   "cell_type": "markdown",
   "metadata": {},
   "source": [
    "<h4> 4. What is significant about placing the second qubit in the $|-\\rangle$ state before applying $U_f$ <br/>\n",
    "Would this benefit have worked if we had used placed the second qubit in the $|+\\rangle$ state?\n",
    "</h4>"
   ]
  },
  {
   "cell_type": "markdown",
   "metadata": {},
   "source": [
    "<h4> Answer: </h4>\n",
    "In the case where the state of the qubit is $|0\\rangle$ and the state of the second qubit is $|-\\rangle$ the only significant advancement made is the fact that we can gain information about $f(x)$ encoded in global phase. But, the fact that we get information encoded in global phase is not of use - we can't detect it. <br/>\n",
    "Essentialy, we get the same state in both cases of $f(0)$ and we get information only about $f(0)$."
   ]
  },
  {
   "cell_type": "markdown",
   "metadata": {},
   "source": [
    "<h4> \n",
    "5. Review the summary section at the end our description of Deutsch's algorithm. <br/>\n",
    "With the exception of U_f, the steps only involve the first qubit. <br/>\n",
    "What role does the second qubit play in this algorithm? <br/>\n",
    "What kept us from implementing this algorithm using only one qubit? </h4>"
   ]
  },
  {
   "cell_type": "markdown",
   "metadata": {},
   "source": [
    "<h4> Answer: </h4>\n",
    "The second qubit is needed for us to convert function $f(x)$ to $U_f$. <br/>\n",
    "Its important role is the phase kickback. The phase kickback will essentially add a negative phase on the state of the first qubit.\n",
    "To be more precise, it will add negative phase to the state of the first qubit only if the function is balanced. "
   ]
  },
  {
   "cell_type": "markdown",
   "metadata": {},
   "source": [
    "<hr/>\n"
   ]
  },
  {
   "cell_type": "markdown",
   "metadata": {},
   "source": [
    "<h2 align=\"center\"> Challenge questions </h2>"
   ]
  },
  {
   "cell_type": "markdown",
   "metadata": {},
   "source": [
    "<h4> 1.  Suppose we were allowed to invoke a different black-box $U_f$ behaving as follows: <br/>\n",
    "\n",
    "$$ U_f |x\\rangle |-\\rangle = (-i)^{f(x)} |x\\rangle |-\\rangle  $$\n",
    "    \n",
    "</h4>"
   ]
  },
  {
   "cell_type": "markdown",
   "metadata": {},
   "source": [
    "<h4> Apply $U_f$ to the state $|+\\rangle\\ |-\\rangle$.\n",
    "</h4>"
   ]
  },
  {
   "cell_type": "markdown",
   "metadata": {},
   "source": [
    "<h4> Answer: </h4> The resulting state is equal to:\n",
    "$$ \\frac{1}{\\sqrt{2}}\\left((-i)^{f(0)}(\\left|00\\rangle - |01\\rangle\\right) + (-i)^{f(1)}(\\left|10\\rangle - |11\\rangle\\right)\\right) $$"
   ]
  },
  {
   "cell_type": "markdown",
   "metadata": {},
   "source": [
    "<h4> Unlike in the analysis of Deutsch's algorithm, factoring out a global phase of $(-i)^{f(0)}$ is not possible here. Why? </h4>"
   ]
  },
  {
   "cell_type": "markdown",
   "metadata": {},
   "source": [
    "<h4> Answer: \n",
    "</h4> In the case of normal Deutsch's algorihm, $(-1)^{f(0)} * (-1)^{f(0)} = 1$. However, in this case $ (-i)^{f(0)} * (-i)^{f(0)} = -1 $."
   ]
  },
  {
   "cell_type": "markdown",
   "metadata": {},
   "source": [
    "<h4> There are four possibilities for how the function $f$ behaves. Simplify the state in each of the four cases, keeping the balanced and constant cases grouped together. Simplify the states by removing global phases, such that the coefficient of $\\left|0\\right>$ is real and positive in all four cases. What is the relative phase of the constant states? What is the relative phase angle $\\phi$ of the balanced states? </h4>"
   ]
  },
  {
   "cell_type": "markdown",
   "metadata": {},
   "source": [
    "<h4> Answer: </h4>\n",
    "General formula: $ \\frac{1}{\\sqrt{2}} ((-i)^{f(0)}|0\\rangle + (-i)^{f(1)}|1\\rangle) |-\\rangle $ </br>\n",
    "\n",
    "(Constant) Function: $ f(0) = 0, f(1) = 0 $: $ \\frac{1}{\\sqrt{2}} (|0\\rangle + |1\\rangle) |-\\rangle $. Relative phase of $ +1 $ <br/>\n",
    "(Constant) Function: $ f(0) = 1, f(1) = 1 $: $ \\frac{1}{\\sqrt{2}} (-i|0\\rangle + i|1\\rangle) |-\\rangle = - \\frac{i}{\\sqrt{2}} (|0\\rangle + |1\\rangle) |-\\rangle $. Global phase of $ -i $ relative phase of $ +1 $. <br/>\n",
    "(Balanced) Function: $ f(0) = 0, f(1) = 1 $: $ \\frac{1}{\\sqrt{2}}(|0\\rangle - i|1\\rangle)|-\\rangle $. Relative phase of $ -i $. <br/>\n",
    "(Balanced) Function: $ f(0) = 1, f(1) = 0 $: $ \\frac{1}{\\sqrt{2}}(-i|0\\rangle + |1\\rangle)|-\\rangle = \\frac{-i}{\\sqrt{2}}(|0\\rangle + i|1\\rangle)|-\\rangle$. Global phase of $ -i $ and relative phase of $ i $.\n",
    "\n",
    "The angle $\\phi$ equals $\\frac{\\pi}{2}$ and $- \\frac{\\pi}{2}$"
   ]
  },
  {
   "cell_type": "markdown",
   "metadata": {},
   "source": [
    "<h4> Now apply the Hadamard gate to your simplified states as an attempt to obtain the state $\\left|f(0)\\oplus f(1)\\right>∣$ in the first qubit? Did the states interfere destructively? Why or why not? Explain your answer in terms of the phase angle $|\\phi\\rangle$ </h4>"
   ]
  },
  {
   "cell_type": "markdown",
   "metadata": {},
   "source": [
    "<h4> Answer: </h4> Assuming the ideal quantum computer, if we apply $H$ gate on the first qubit and the function is constant, we will always get the state $|0\\rangle$. However, if we rerun the circuit multiple times and get the state of $|1\\rangle$ at least once, then the function is balanced."
   ]
  },
  {
   "cell_type": "markdown",
   "metadata": {},
   "source": [
    "<h4> 2. Let $f: \\{0,1\\} \\rightarrow \\{0,1\\}$ be some unknown function from one bit to one bit. In the next exercise, you are given a unitary $U_f$ as a black-box, meaning that you get to \"invoke\" it and use it, but you don't get to see how it is built. You are promised that $U_f$ acts on two qubits as follows: \n",
    "$$(x,y)→(x,y⊕f(x)) $$\n",
    "    \n",
    "Your task is to determine, making just a single invocation to $U_f$, whether $f$ is constant (i.e. $f(0) = f(1)$) or balanced (i.e. $f(0) \\neq f(1)$). <br/>\n",
    "In the next cell, we show you how to invoke $U_f$.\n",
    "</h4>"
   ]
  },
  {
   "cell_type": "code",
   "execution_count": null,
   "metadata": {},
   "outputs": [],
   "source": [
    "circ = QuantumCircuit(2)\n",
    "\n",
    "U_f(circ, [0,1])\n",
    "\n",
    "circ.draw()"
   ]
  },
  {
   "cell_type": "markdown",
   "metadata": {},
   "source": [
    "<h4> Now, using the template below, write code that uses just a single invocation to $U_f$, and determines whether the function $f$ is constant or balanced.</h4>"
   ]
  },
  {
   "cell_type": "code",
   "execution_count": null,
   "metadata": {},
   "outputs": [],
   "source": [
    "## YOUR CODE HERE ##\n",
    "\n",
    "# This code can not be run here because I don't have the function U_f(). Please copy paste the code on the site.\n",
    "\n",
    "circ = QuantumCircuit(2,2)\n",
    "circ.x(1)\n",
    "\n",
    "circ.h([0,1])\n",
    "\n",
    "U_f(circ, [0,1])\n",
    "\n",
    "circ.h(0)\n",
    "\n",
    "circ.measure(0,0) #measure\n",
    "\n",
    "# Import Aer and execute\n",
    "from qiskit import Aer, execute\n",
    "\n",
    "backend_sim = Aer.get_backend('qasm_simulator')\n",
    "sim = execute(circ, backend_sim, shots=1000) #how many times the quantum circuit is run.\n",
    "\n",
    "sim_result = sim.result() # The results from the execution are stored in 'sim_result' and can be obtained using\n",
    "counts = sim_result.get_counts(circ) #get counts\n",
    "print(counts)\n",
    "\n",
    "#plot histogram\n",
    "from qiskit.visualization import plot_histogram\n",
    "plot_histogram(counts)"
   ]
  }
 ],
 "metadata": {
  "kernelspec": {
   "display_name": "Python 3",
   "language": "python",
   "name": "python3"
  },
  "language_info": {
   "codemirror_mode": {
    "name": "ipython",
    "version": 3
   },
   "file_extension": ".py",
   "mimetype": "text/x-python",
   "name": "python",
   "nbconvert_exporter": "python",
   "pygments_lexer": "ipython3",
   "version": "3.6.10"
  }
 },
 "nbformat": 4,
 "nbformat_minor": 4
}
