{
 "cells": [
  {
   "cell_type": "markdown",
   "metadata": {},
   "source": [
    "<h1 align=\"center\"> QBraid's QuBes course </h1>\n",
    "<h2 align=\"center\"> Writing Quantum Programs </h1>\n",
    "<h3 align=\"center\"> Luka Nedimović </h1>"
   ]
  },
  {
   "cell_type": "markdown",
   "metadata": {},
   "source": [
    "<hr/>"
   ]
  },
  {
   "cell_type": "code",
   "execution_count": null,
   "metadata": {},
   "outputs": [],
   "source": [
    "import numpy as np\n",
    "import math\n",
    "from qiskit.extensions import *\n",
    "from qiskit import Aer, execute"
   ]
  },
  {
   "cell_type": "markdown",
   "metadata": {},
   "source": [
    "<hr/>"
   ]
  },
  {
   "cell_type": "markdown",
   "metadata": {},
   "source": [
    "<h2 align=\"center\"> Free response </h2>"
   ]
  },
  {
   "cell_type": "markdown",
   "metadata": {},
   "source": [
    "<h4> 1. When we talk about the classical strategies for the games mentioned, we use the term \"deterministic strategy\". What do we mean by this? </h4>"
   ]
  },
  {
   "cell_type": "markdown",
   "metadata": {},
   "source": [
    "<h4> Answer: </h4> When we use the term \"deterministic strategy\", we mean the strategy that's already decided before the non-local game begins and it has no probabilistic aspects to it - input given by the referee (in these cases) will always be mapped to some output no matter how many times the referee gives the input. It's completely classical. </b>"
   ]
  },
  {
   "cell_type": "markdown",
   "metadata": {},
   "source": [
    "<h4> 2. Why do you think that entanglement allows for a winning probability of 1 in the Magic Square game? </h4>"
   ]
  },
  {
   "cell_type": "markdown",
   "metadata": {},
   "source": [
    "<h4> Answer: </h4> One important aspect of the non-local games is the fact that players of the game can't communicate while the game is ongoing. But, the entanglement can be thought of as communication, depending on how you take a look at it. <br/>\n",
    "Take for the example Bell State = $\\frac{1}{\\sqrt{2}}(|00\\rangle + |11\\rangle).$ <br/> It seems like whatever is the measured value of the first qubit, it's also the value of the second qubit. When trying to generate the magic square, we have seen that it's not really possible, but we don't even need to generate full magic square - we just need one column and one row. Alice and Bob could use that entangled pair to perform certain operation on their qubits that could lead to perfect outcome. <br/>\n",
    "Also, if they share more qubits probably they can somehow tell each other what is the their input, if necessary. They could figure value of each other's input after the measurement (if we assume that the measurement is not necessarily in the end of the circuit).\n"
   ]
  },
  {
   "cell_type": "markdown",
   "metadata": {},
   "source": [
    "<h4> 3. We saw that if Alice and Bob share the state $\\frac{1}{\\sqrt{2}}(|00\\rangle+|11\\rangle)$ in the CHSH game, then they can win with optimal probability. Are there any other states that allow Alice and Bob to win with the same probability?\n",
    "</h4>"
   ]
  },
  {
   "cell_type": "markdown",
   "metadata": {},
   "source": [
    "<h4> Answer: </h4> State $\\frac{1}{\\sqrt{2}}(|00\\rangle-|11\\rangle)$ could also work out."
   ]
  },
  {
   "cell_type": "markdown",
   "metadata": {},
   "source": [
    "<h4> 4. Based on what do Alice and Bob decide what quantum circuits to perform on their respective quantum systems prior to measuring? </h4>"
   ]
  },
  {
   "cell_type": "markdown",
   "metadata": {},
   "source": [
    "<h4> Answer: </h4> Alice and Bob decide what quantum circuits to perform on their respective quantum systems prior to measuring based on the input they are given. "
   ]
  },
  {
   "cell_type": "markdown",
   "metadata": {},
   "source": [
    "<h4> 5. Using the code below, you can input an initial state, and compute the winning probability of Alice and Bob when they use the \"optimal\" quantum circuits, but possibly sub-optimal states. <br/>\n",
    "(a) Verify that when Alice and Bob share an EPR pair, then indeed their winning probability is approximately 0.85 <br/>\n",
    "(b) What is the best winning probability when Alice and Bob share a product state instead?\n",
    "</h4>"
   ]
  },
  {
   "cell_type": "code",
   "execution_count": null,
   "metadata": {},
   "outputs": [],
   "source": [
    "theta_0 = math.pi/8\n",
    "theta_1 = -math.pi/8\n",
    "B_0 = np.array([[np.cos(theta_0), np.sin(theta_0)], [np.sin(theta_0), -np.cos(theta_0)]])  #Bob's unitary gate B_0\n",
    "B_1 = np.array([[np.cos(theta_1), np.sin(theta_1)], [np.sin(theta_1), -np.cos(theta_1)]])  #Bob's unitary gate B_1\n",
    "\n",
    "N = 1000 #number of games played\n",
    "N_win = 0 #initialize number of games won to zero\n",
    "\n",
    "for i in range(N):              #We will run this experiment many times to estimate the probability of Alice and Bob winning.\n",
    "    \n",
    "    circ = QuantumCircuit(2,2)   #initializing the circuit\n",
    "    \n",
    "    ## Start you circuit initalization here ##\n",
    "    \n",
    "    circ.h(0)\n",
    "    circ.cx(0,1)\n",
    "    \n",
    "    ## End circuit initialization ##\n",
    "    \n",
    "    x = random.randint(0,1)      #sampling a question for Alice\n",
    "    y = random.randint(0,1)      #sampling a question for Bob\n",
    "    \n",
    "    if x == 0:                    #if x=0, Alice's circuit is the identity followed by a measurement\n",
    "        pass                \n",
    "    else:                        #if x=1, Alice applies a H gate first before measuring.\n",
    "        circ.h(0)                \n",
    "        \n",
    "    if y == 0:                    #if y=0, Bob applies the unitary gate B_0\n",
    "        circ.unitary(B_0, range(1), label = 'B_0')\n",
    "    else:                        #if y=1, Bob applies the unitary gate B_1\n",
    "        circ.unitary(B_1, range(1), label = 'B_1')\n",
    "    \n",
    "    circ.measure([0,1], [1,0])\n",
    "    \n",
    "    #execute and obtain Alice's and Bob's answers a and b\n",
    "    backend_sim = Aer.get_backend('qasm_simulator')\n",
    "    sim = execute(circ, backend_sim, shots=1) \n",
    "    sim_result = sim.result()\n",
    "    counts = sim_result.get_counts(circ)\n",
    "    a = int(list(dict.keys(counts))[0][0])      # Alice's answer\n",
    "    b = int(list(dict.keys(counts))[0][1])      # Bob's answer\n",
    "\n",
    "    if (a + b) %2 == x*y:                  # check if a+b = xy, if so add a win to the count of won games N_win.\n",
    "        N_win += 1\n",
    "    \n",
    "print(N_win/N)  #print the ratio of games that were won N_win to total games played N"
   ]
  },
  {
   "cell_type": "markdown",
   "metadata": {},
   "source": [
    "<h4> Answer: </h4>\n",
    "(a) <i> Simply run the code in cell above </i> <br/>\n",
    "(b) If both Alice and Bob initialize state of their quantum system in $|00\\rangle$, the best winning probability is still about 0.85. Check the circuit below (it claims that)."
   ]
  },
  {
   "cell_type": "code",
   "execution_count": null,
   "metadata": {},
   "outputs": [],
   "source": [
    "theta_0 = math.pi/8\n",
    "theta_1 = -math.pi/8\n",
    "B_0 = np.array([[np.cos(theta_0), np.sin(theta_0)], [np.sin(theta_0), -np.cos(theta_0)]])  #Bob's unitary gate B_0\n",
    "B_1 = np.array([[np.cos(theta_1), np.sin(theta_1)], [np.sin(theta_1), -np.cos(theta_1)]])  #Bob's unitary gate B_1\n",
    "\n",
    "N = 100 #number of games played\n",
    "N_win = 0 #initialize number of games won to zero\n",
    "\n",
    "for i in range(N):              #We will run this experiment many times to estimate the probability of Alice and Bob winning.\n",
    "    \n",
    "    circ = QuantumCircuit(2,2)   #initializing the circuit\n",
    "    \n",
    "    ## Start you circuit initalization here ##\n",
    "    \n",
    "    # Just leave the circuit in state |00>\n",
    "    \n",
    "    ## End circuit initialization ##\n",
    "    \n",
    "    x = random.randint(0,1)      #sampling a question for Alice\n",
    "    y = random.randint(0,1)      #sampling a question for Bob\n",
    "    \n",
    "    if x == 0:                    #if x=0, Alice's circuit is the identity followed by a measurement\n",
    "        pass                \n",
    "    else:                        #if x=1, Alice applies a H gate first before measuring.\n",
    "        circ.h(0)                \n",
    "        \n",
    "    if y == 0:                    #if y=0, Bob applies the unitary gate B_0\n",
    "        circ.unitary(B_0, range(1), label = 'B_0')\n",
    "    else:                        #if y=1, Bob applies the unitary gate B_1\n",
    "        circ.unitary(B_1, range(1), label = 'B_1')\n",
    "    \n",
    "    circ.measure([0,1], [1,0])\n",
    "    \n",
    "    #execute and obtain Alice's and Bob's answers a and b\n",
    "    backend_sim = Aer.get_backend('qasm_simulator')\n",
    "    sim = execute(circ, backend_sim, shots=1) \n",
    "    sim_result = sim.result()\n",
    "    counts = sim_result.get_counts(circ)\n",
    "    a = int(list(dict.keys(counts))[0][0])      # Alice's answer\n",
    "    b = int(list(dict.keys(counts))[0][1])      # Bob's answer\n",
    "\n",
    "    if (a + b) %2 == x*y:                  # check if a+b = xy, if so add a win to the count of won games N_win.\n",
    "        N_win += 1\n",
    "    \n",
    "print(N_win/N)  #print the ratio of games that were won N_win to total games played N"
   ]
  },
  {
   "cell_type": "markdown",
   "metadata": {},
   "source": [
    "<hr/>\n",
    "\n"
   ]
  }
 ],
 "metadata": {
  "kernelspec": {
   "display_name": "Python 3",
   "language": "python",
   "name": "python3"
  },
  "language_info": {
   "codemirror_mode": {
    "name": "ipython",
    "version": 3
   },
   "file_extension": ".py",
   "mimetype": "text/x-python",
   "name": "python",
   "nbconvert_exporter": "python",
   "pygments_lexer": "ipython3",
   "version": "3.8.5"
  }
 },
 "nbformat": 4,
 "nbformat_minor": 4
}
