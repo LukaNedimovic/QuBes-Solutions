{
 "cells": [
  {
   "cell_type": "markdown",
   "metadata": {},
   "source": [
    "<h1 align=\"center\"> QBraid's QuBes course </h1>\n",
    "<h2 align=\"center\"> Writing Quantum Programs </h1>\n",
    "<h3 align=\"center\"> Luka Nedimović </h1>"
   ]
  },
  {
   "cell_type": "markdown",
   "metadata": {},
   "source": [
    "<hr/>"
   ]
  },
  {
   "cell_type": "code",
   "execution_count": 15,
   "metadata": {},
   "outputs": [],
   "source": [
    "from qiskit import QuantumCircuit"
   ]
  },
  {
   "cell_type": "markdown",
   "metadata": {},
   "source": [
    "<hr/>"
   ]
  },
  {
   "cell_type": "markdown",
   "metadata": {},
   "source": [
    "<h2 align=\"center\"> Free response </h2>"
   ]
  },
  {
   "cell_type": "markdown",
   "metadata": {},
   "source": [
    "<h4> 1. What's wrong with this code? </h4>"
   ]
  },
  {
   "cell_type": "code",
   "execution_count": null,
   "metadata": {},
   "outputs": [],
   "source": [
    "circ = QuantumCircuit(0) "
   ]
  },
  {
   "cell_type": "markdown",
   "metadata": {},
   "source": [
    "<h4> Answer: </h4> This code is trying to create a quantum circuit with <b> 0 qubits </b>, which means there are no qubits to manipulate. </b> "
   ]
  },
  {
   "cell_type": "markdown",
   "metadata": {},
   "source": [
    "<h4> 2. To write quantum programs, we made use of the QuantumCircuit class from the module qiskit. To use this code, we imported it as <i>from qiskit import QuantumCircuit</i>. <br><br>\n",
    "Suppose instead that we used the statement <i>import qiskit</i>, exactly the way we said import numpy. How, then could we create an instance of the QuantumCircuit class? <br><br>\n",
    "Write a simple QuantumCircuit using this method, and draw it to verify your code works. (Hint: You can look back at how we used numpy for guidance?) </h4>"
   ]
  },
  {
   "cell_type": "code",
   "execution_count": 16,
   "metadata": {},
   "outputs": [],
   "source": [
    "from qiskit import QuantumCircuit\n",
    "\n",
    "circ = QuantumCircuit(1,1)"
   ]
  },
  {
   "cell_type": "markdown",
   "metadata": {},
   "source": [
    "<h4> Solution: </h4>"
   ]
  },
  {
   "cell_type": "code",
   "execution_count": 17,
   "metadata": {},
   "outputs": [
    {
     "data": {
      "image/png": "[encoded data removed]",
      "text/plain": [
       "<Figure size 103.426x144.48 with 1 Axes>"
      ]
     },
     "execution_count": 17,
     "metadata": {},
     "output_type": "execute_result"
    }
   ],
   "source": [
    "#copy the code from above using \"import qiskit\" as the import statement, then draw the circuit\n",
    "\n",
    "import qiskit\n",
    "\n",
    "#write circuit below:\n",
    "\n",
    "circ = qiskit.QuantumCircuit(1,1)\n",
    "circ.draw(\"mpl\")\n",
    "\n",
    "#finish circuit"
   ]
  },
  {
   "cell_type": "markdown",
   "metadata": {},
   "source": [
    "<h4> 3. Create a QuantumCircuit with three qubits. Use a for loop to add a Hadamard to each gate. Draw the circuit to demonstrate that your code has worked correctly. </h4>"
   ]
  },
  {
   "cell_type": "markdown",
   "metadata": {},
   "source": [
    "<h4> Solution: </h4>"
   ]
  },
  {
   "cell_type": "code",
   "execution_count": 18,
   "metadata": {},
   "outputs": [
    {
     "data": {
      "image/png": "[encoded data removed]",
      "text/plain": [
       "<Figure size 146.797x204.68 with 1 Axes>"
      ]
     },
     "execution_count": 18,
     "metadata": {},
     "output_type": "execute_result"
    }
   ],
   "source": [
    "#write code below:\n",
    "\n",
    "# QuantumCircuit is already imported\n",
    "\n",
    "circ = QuantumCircuit(3)\n",
    "circ.h(list(i for i in range(3)))\n",
    "\n",
    "circ.draw(\"mpl\")"
   ]
  },
  {
   "cell_type": "markdown",
   "metadata": {},
   "source": [
    "<h4> The second solution that also works: </h4>"
   ]
  },
  {
   "cell_type": "code",
   "execution_count": 19,
   "metadata": {},
   "outputs": [
    {
     "data": {
      "image/png": "[encoded data removed]",
      "text/plain": [
       "<Figure size 146.797x204.68 with 1 Axes>"
      ]
     },
     "execution_count": 19,
     "metadata": {},
     "output_type": "execute_result"
    }
   ],
   "source": [
    "#write code below:\n",
    "\n",
    "# QuantumCircuit is already imported\n",
    "\n",
    "circ = QuantumCircuit(3)\n",
    "\n",
    "for i in range(3):\n",
    "    circ.h(i)\n",
    "    \n",
    "circ.draw(\"mpl\")"
   ]
  },
  {
   "cell_type": "markdown",
   "metadata": {},
   "source": [
    "<h4> 4. Initialize a QuantumCircuit and apply an X and Y gate on the first qubit. Now draw the circuit to verify your code works as expected. </h4>"
   ]
  },
  {
   "cell_type": "markdown",
   "metadata": {},
   "source": [
    "<h4> Solution: </h4>"
   ]
  },
  {
   "cell_type": "code",
   "execution_count": 20,
   "metadata": {},
   "outputs": [
    {
     "data": {
      "image/png": "[encoded data removed]",
      "text/plain": [
       "<Figure size 193.726x84.28 with 1 Axes>"
      ]
     },
     "execution_count": 20,
     "metadata": {},
     "output_type": "execute_result"
    }
   ],
   "source": [
    "#write code below:\n",
    "\n",
    "# QuantumCircuit is already imported\n",
    "\n",
    "circ = QuantumCircuit(1)\n",
    "circ.x(0)\n",
    "circ.y(0)\n",
    "\n",
    "circ.draw(\"mpl\")"
   ]
  },
  {
   "cell_type": "markdown",
   "metadata": {},
   "source": [
    "<h4> 5. One important skill in using external packages is reading coding documentation. This is all the information about how to use various pieces of code for a module. <br><br>\n",
    "Go to https://qiskit.org/documentation/ and type in \"Summary of Quantum Operations\" in the search bar. <br>\n",
    "This shows all the different possible gates that can be used and how they work mathematically. Scroll down until you find the T gate. <br><br>\n",
    "How is this gate called using qiskit? (Note: Scrolling through documentation can be an extremely confusing process, especially for large modules. Remember that this process is like looking something up in the dictionary: you will come across many words you don't know until you find the one you are looking for!) </h4>"
   ]
  },
  {
   "cell_type": "markdown",
   "metadata": {},
   "source": [
    "<h4> Solution: </h4>"
   ]
  },
  {
   "cell_type": "code",
   "execution_count": 21,
   "metadata": {},
   "outputs": [
    {
     "data": {
      "image/png": "[encoded data removed]",
      "text/plain": [
       "<Figure size 133.526x84.28 with 1 Axes>"
      ]
     },
     "execution_count": 21,
     "metadata": {},
     "output_type": "execute_result"
    }
   ],
   "source": [
    "# QuantumCircuit is already imported\n",
    "\n",
    "circ = QuantumCircuit(1)\n",
    "circ.t(0) # The gate is simply called like other gates, such as H, Px, Py, Pz ... \n",
    "\n",
    "circ.draw(\"mpl\") # Just to see the circuit ! :)"
   ]
  },
  {
   "cell_type": "code",
   "execution_count": 22,
   "metadata": {},
   "outputs": [
    {
     "data": {
      "image/png": "[encoded data removed]",
      "text/plain": [
       "<Figure size 133.526x84.28 with 1 Axes>"
      ]
     },
     "execution_count": 22,
     "metadata": {},
     "output_type": "execute_result"
    }
   ],
   "source": [
    "# There is another way of calling it: \n",
    "\n",
    "from qiskit.circuit.library import TGate # TGate \n",
    "\n",
    "circ = QuantumCircuit(1)\n",
    "circ.append(TGate(), [0]) # Adding a T gate that acts on qubit 0\n",
    "\n",
    "circ.draw(\"mpl\") # The circuit is the same as the upper one ! :)"
   ]
  },
  {
   "cell_type": "markdown",
   "metadata": {},
   "source": [
    "<hr>"
   ]
  },
  {
   "cell_type": "markdown",
   "metadata": {},
   "source": [
    "<h3 align=\"center\"> Challenge problems </h3>"
   ]
  },
  {
   "cell_type": "markdown",
   "metadata": {},
   "source": [
    " <h4> 1. (Statement of this problem is quite long and will not be included) </h4>"
   ]
  },
  {
   "cell_type": "markdown",
   "metadata": {},
   "source": [
    "<h4> Solution a - \"The box is empty\": </h4>"
   ]
  },
  {
   "cell_type": "code",
   "execution_count": 23,
   "metadata": {},
   "outputs": [
    {
     "name": "stdout",
     "output_type": "stream",
     "text": [
      "{'0': 1024}\n"
     ]
    }
   ],
   "source": [
    "from qiskit import QuantumCircuit, Aer, execute\n",
    "\n",
    "#create QuantumCircuit\n",
    "circ=QuantumCircuit(1,1)\n",
    "\n",
    "#Code for CASE A\n",
    "\n",
    "circ.h(0) # The first beamsplitter\n",
    "circ.h(0) # The second beamsplitter\n",
    "\n",
    "#measure\n",
    "circ.measure([0],[0])\n",
    "backend_sim = Aer.get_backend('qasm_simulator')\n",
    "sim = execute(circ, backend_sim, shots=1024)\n",
    "sim_result = sim.result()\n",
    "counts = sim_result.get_counts(circ)\n",
    "print(counts)"
   ]
  },
  {
   "cell_type": "markdown",
   "metadata": {},
   "source": [
    "<h4> Solution b - \"The firework explodes upon being hit by the photon\": </h4>"
   ]
  },
  {
   "cell_type": "code",
   "execution_count": 24,
   "metadata": {},
   "outputs": [
    {
     "name": "stdout",
     "output_type": "stream",
     "text": [
      "{'1': 1024}\n"
     ]
    }
   ],
   "source": [
    "from qiskit import QuantumCircuit, Aer, execute\n",
    "from qiskit.circuit.library import Reset\n",
    "\n",
    "#create QuantumCircuit\n",
    "circ=QuantumCircuit(1,1)\n",
    "\n",
    "#Code for CASE B\n",
    "\n",
    "circ.h(0) # The first beamsplitter\n",
    "circ.measure([0],[0]) # The photon hits the firework\n",
    "circ.append(Reset(), [0]) # Resseting the qubit to ensure it's in |0> state\n",
    "circ.x(0) # Adding an X gate to flip |0> -> |1>\n",
    "# We can think of this ending the circuit, since it hits the firework and the firework explodes, so we don't know what happens with the qubit afterwards\n",
    "\n",
    "#measure\n",
    "circ.measure([0],[0])\n",
    "backend_sim = Aer.get_backend('qasm_simulator')\n",
    "sim = execute(circ, backend_sim, shots=1024)\n",
    "sim_result = sim.result()\n",
    "counts = sim_result.get_counts(circ)\n",
    "print(counts)"
   ]
  },
  {
   "cell_type": "markdown",
   "metadata": {},
   "source": [
    "<h4> Solution c - \"The firework \"chooses\" the the upper path, leaving the firework unexploded.\" </h4>"
   ]
  },
  {
   "cell_type": "code",
   "execution_count": 25,
   "metadata": {},
   "outputs": [
    {
     "name": "stdout",
     "output_type": "stream",
     "text": [
      "{'1': 540, '0': 484}\n"
     ]
    }
   ],
   "source": [
    "from qiskit import QuantumCircuit, Aer, execute\n",
    "from qiskit.circuit.library import Reset\n",
    "\n",
    "#create QuantumCircuit\n",
    "circ=QuantumCircuit(1,1)\n",
    "\n",
    "#Code for CASE C\n",
    "\n",
    "circ.h(0) # The first beamsplitter\n",
    "circ.measure([0],[0]) # Measuring to check if the qubit took the upper path \n",
    "circ.append(Reset(), [0]) # Resetting the qubit to ensure it's in |0> state\n",
    "circ.h(0) # The second beamsplitter\n",
    "\n",
    "#measure\n",
    "circ.measure([0],[0])\n",
    "backend_sim = Aer.get_backend('qasm_simulator')\n",
    "sim = execute(circ, backend_sim, shots=1024)\n",
    "sim_result = sim.result()\n",
    "counts = sim_result.get_counts(circ)\n",
    "print(counts)"
   ]
  },
  {
   "cell_type": "markdown",
   "metadata": {},
   "source": [
    "<h4> 2. Let's look at the code below and understand what it is showing us! </h4>"
   ]
  },
  {
   "cell_type": "code",
   "execution_count": 26,
   "metadata": {},
   "outputs": [
    {
     "name": "stdout",
     "output_type": "stream",
     "text": [
      "{'0': 526, '1': 498}\n",
      "     ┌─────────┐┌───┐┌─┐\n",
      "q_0: ┤ RY(π/2) ├┤ Z ├┤M├\n",
      "     └─────────┘└───┘└╥┘\n",
      "c: 1/═════════════════╩═\n",
      "                      0 \n"
     ]
    },
    {
     "data": {
      "image/png": "[encoded data removed]",
      "text/plain": [
       "<Figure size 504x360 with 1 Axes>"
      ]
     },
     "execution_count": 26,
     "metadata": {},
     "output_type": "execute_result"
    }
   ],
   "source": [
    "from qiskit import QuantumCircuit\n",
    "from qiskit import Aer, execute\n",
    "from qiskit.visualization import plot_histogram\n",
    "import numpy as np\n",
    "circ = QuantumCircuit(1,1)  #create QuantumCircuit object\n",
    "### START CODE HERE ### (approx. 2 lines)\n",
    "circ.ry(np.pi/2,0)\n",
    "circ.z(0)\n",
    "### END CODE HERE ###\n",
    "circ.measure(0,0) #add a measurement to the circuit\n",
    "\n",
    "\n",
    "backend_sim = Aer.get_backend('qasm_simulator')\n",
    "sim = execute(circ, backend_sim, shots=1024)\n",
    "sim_result = sim.result()\n",
    "counts = sim_result.get_counts(circ)\n",
    "print(counts)\n",
    "print(circ.draw())\n",
    "plot_histogram(counts)"
   ]
  },
  {
   "cell_type": "markdown",
   "metadata": {},
   "source": [
    "<h5> a) Ignoring the small variance in the results. What are the probabilities for $|0\\rangle$ and $|1\\rangle$ ? </h5> \n",
    "<h4> Answer: </h4> The probabilities for $|0\\rangle$ and $|1\\rangle$ seem to be about 50% for each "
   ]
  },
  {
   "cell_type": "markdown",
   "metadata": {},
   "source": [
    "<h5> b) Write a qubit state which when measured would result in the above probabilites. </h5> "
   ]
  },
  {
   "cell_type": "markdown",
   "metadata": {},
   "source": [
    "<h4> Solution: </h4> \n",
    "Qubit state which when measured would result in the above probabilities could be $|+\\rangle$ or $|-\\rangle$ state: \n",
    "<div align=\"center\"> \n",
    "$|+\\rangle = \\frac{1}{\\sqrt{2}} (|0\\rangle + |1\\rangle)$ <br>\n",
    "$|-\\rangle = \\frac{1}{\\sqrt{2}} (|0\\rangle - |1\\rangle)$\n",
    "</div>"
   ]
  },
  {
   "cell_type": "markdown",
   "metadata": {},
   "source": [
    "<h5> c) In the below code block, write a single qubit which would produce the same result! </h5>"
   ]
  },
  {
   "cell_type": "markdown",
   "metadata": {},
   "source": [
    "<h4> Solution: </h4>"
   ]
  },
  {
   "cell_type": "code",
   "execution_count": 27,
   "metadata": {},
   "outputs": [
    {
     "name": "stdout",
     "output_type": "stream",
     "text": [
      "{'0': 512, '1': 512}\n",
      "     ┌───┐┌─┐\n",
      "q_0: ┤ H ├┤M├\n",
      "     └───┘└╥┘\n",
      "c: 1/══════╩═\n",
      "           0 \n"
     ]
    },
    {
     "data": {
      "image/png": "[encoded data removed]",
      "text/plain": [
       "<Figure size 504x360 with 1 Axes>"
      ]
     },
     "execution_count": 27,
     "metadata": {},
     "output_type": "execute_result"
    }
   ],
   "source": [
    "# QuantumCircuit is already imported\n",
    "\n",
    "circ = QuantumCircuit(1,1)  #create QuantumCircuit object\n",
    "# circ.x(0) # To get the |-> state, uncomment this line\n",
    "circ.h(0)\n",
    "circ.measure(0,0) #add a measurement to the circuit\n",
    "\n",
    "# In case you want to simulate and draw it, uncomment following lines:\n",
    "\n",
    "backend_sim = Aer.get_backend('qasm_simulator')\n",
    "sim = execute(circ, backend_sim, shots=1024)\n",
    "sim_result = sim.result()\n",
    "counts = sim_result.get_counts(circ)\n",
    "print(counts)\n",
    "print(circ.draw())\n",
    "plot_histogram(counts)"
   ]
  },
  {
   "cell_type": "markdown",
   "metadata": {},
   "source": [
    "<hr>"
   ]
  }
 ],
 "metadata": {
  "kernelspec": {
   "display_name": "Python 3",
   "language": "python",
   "name": "python3"
  },
  "language_info": {
   "codemirror_mode": {
    "name": "ipython",
    "version": 3
   },
   "file_extension": ".py",
   "mimetype": "text/x-python",
   "name": "python",
   "nbconvert_exporter": "python",
   "pygments_lexer": "ipython3",
   "version": "3.8.5"
  }
 },
 "nbformat": 4,
 "nbformat_minor": 4
}
