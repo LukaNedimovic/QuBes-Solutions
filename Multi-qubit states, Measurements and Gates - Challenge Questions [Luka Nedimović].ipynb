{
 "cells": [
  {
   "cell_type": "markdown",
   "metadata": {},
   "source": [
    "<h1 align=\"center\"> QBraid's QuBes course </h1>\n",
    "<h2 align=\"center\"> Multi-qubit gates, Measurements and Gates </h1>\n",
    "<h3 align=\"center\"> Luka Nedimović </h1>"
   ]
  },
  {
   "cell_type": "markdown",
   "metadata": {},
   "source": [
    "<hr/>"
   ]
  },
  {
   "cell_type": "code",
   "execution_count": 63,
   "metadata": {},
   "outputs": [
    {
     "data": {
      "text/plain": [
       "<qiskit.circuit.instructionset.InstructionSet at 0x2ab8aa9c198>"
      ]
     },
     "execution_count": 63,
     "metadata": {},
     "output_type": "execute_result"
    }
   ],
   "source": [
    "from qiskit import QuantumCircuit\n",
    "example_circ = QuantumCircuit(2)\n",
    "example_circ.h([0,1])\n",
    "example_circ.cx(0,1)\n",
    "example_circ.h([0,1])"
   ]
  },
  {
   "cell_type": "markdown",
   "metadata": {},
   "source": [
    "<hr/>"
   ]
  },
  {
   "cell_type": "markdown",
   "metadata": {},
   "source": [
    "<h2 align=\"center\"> Free response </h2>"
   ]
  },
  {
   "cell_type": "markdown",
   "metadata": {},
   "source": [
    "<h4> 1. We saw in the lesson that in order to create the first bell state $ \\frac{1}{\\sqrt{2}}(|00\\rangle + |11\\rangle)$, you apply a Hadamard gate to the first qubit, and then apply a CNOT gate with the first qubit as the control and second qubit as the target. <br/> \n",
    "Try to design a quantum circuit that will implement the other three bell states: $ \\frac{1}{\\sqrt{2}}(|00\\rangle - |11\\rangle), \\frac{1}{\\sqrt{2}}(|01\\rangle + |10\\rangle),$ and $\\frac{1}{\\sqrt{2}}(|01\\rangle - |10\\rangle)$ .\n",
    "</h4>"
   ]
  },
  {
   "cell_type": "markdown",
   "metadata": {},
   "source": [
    "<h4> Solution: </h4>"
   ]
  },
  {
   "cell_type": "code",
   "execution_count": 54,
   "metadata": {},
   "outputs": [
    {
     "data": {
      "text/plain": [
       "<qiskit.circuit.instructionset.InstructionSet at 0x2ab8c1aa908>"
      ]
     },
     "execution_count": 54,
     "metadata": {},
     "output_type": "execute_result"
    }
   ],
   "source": [
    "from qiskit import QuantumCircuit, assemble, Aer\n",
    "from qiskit.visualization import plot_histogram, plot_bloch_vector\n",
    "from math import sqrt, pi\n",
    "\n",
    "#simulator for checking qubit states later on\n",
    "simulator = Aer.get_backend('statevector_simulator')\n",
    "\n",
    "\n",
    "#circuit for second bell state\n",
    "bell_state_2 = QuantumCircuit(2)\n",
    "\n",
    "#circuit for third bell state\n",
    "bell_state_3 = QuantumCircuit(2)\n",
    "\n",
    "#circuit for fourth bell state\n",
    "bell_state_4 = QuantumCircuit(2)\n",
    "\n",
    "#write your code here for bell_state_2:\n",
    "bell_state_2.h(0)\n",
    "bell_state_2.cx(0, 1)\n",
    "bell_state_2.z(0)\n",
    "\n",
    "#write your code here for bell_state_3:\n",
    "bell_state_3.h(0)\n",
    "bell_state_3.cx(0, 1)\n",
    "bell_state_3.x(1)\n",
    "\n",
    "#write your code here for bell_state_4:\n",
    "bell_state_4.h(0)\n",
    "bell_state_4.cx(0, 1)\n",
    "bell_state_4.z(0)\n",
    "bell_state_4.x(1)"
   ]
  },
  {
   "cell_type": "code",
   "execution_count": 55,
   "metadata": {},
   "outputs": [
    {
     "data": {
      "image/png": "[encoded data removed]",
      "text/plain": [
       "<Figure size 504x360 with 1 Axes>"
      ]
     },
     "execution_count": 55,
     "metadata": {},
     "output_type": "execute_result"
    }
   ],
   "source": [
    "#run check for bell_state_2\n",
    "qobj2 = assemble(bell_state_2)\n",
    "result2 = simulator.run(qobj2).result()\n",
    "counts2 = result2.get_counts()\n",
    "plot_histogram(counts2)"
   ]
  },
  {
   "cell_type": "code",
   "execution_count": 56,
   "metadata": {},
   "outputs": [
    {
     "data": {
      "image/png": "[encoded data removed]",
      "text/plain": [
       "<Figure size 504x360 with 1 Axes>"
      ]
     },
     "execution_count": 56,
     "metadata": {},
     "output_type": "execute_result"
    }
   ],
   "source": [
    "#run check for bell_state_3\n",
    "qobj3 = assemble(bell_state_3)\n",
    "result3 = simulator.run(qobj3).result()\n",
    "counts3 = result3.get_counts()\n",
    "plot_histogram(counts3)"
   ]
  },
  {
   "cell_type": "code",
   "execution_count": 57,
   "metadata": {},
   "outputs": [
    {
     "data": {
      "image/png": "[encoded data removed]",
      "text/plain": [
       "<Figure size 504x360 with 1 Axes>"
      ]
     },
     "execution_count": 57,
     "metadata": {},
     "output_type": "execute_result"
    }
   ],
   "source": [
    "#run check for bell_state_4\n",
    "qobj4 = assemble(bell_state_4)\n",
    "result4 = simulator.run(qobj4).result()\n",
    "counts4 = result4.get_counts()\n",
    "plot_histogram(counts4)"
   ]
  },
  {
   "cell_type": "markdown",
   "metadata": {},
   "source": [
    "<h4> 2. It is often the case that many algorithms start by initializing the state of certain qubits to a few common states, other than the $\\left|0 \\right\\rangle$ or $\\left|1 \\right\\rangle$ states. For example, two other common states are: \n",
    "$$ |+\\rangle = \\frac{1}{\\sqrt{2}}(|0\\rangle + |1\\rangle), |-\\rangle = \\frac{1}{\\sqrt{2}}(|0\\rangle - |1\\rangle)$$\n",
    "These states are referred to as Hadamard basis states, because they are created using just one application of a Hadamard gate. Try implementing the following two-qubit states:\n",
    "<ul>\n",
    "    <li> 1: $ |+\\rangle|0\\rangle = \\frac{1}{\\sqrt{2}}|00\\rangle + \\frac{1}{\\sqrt{2}}|10\\rangle $ </li>\n",
    "    <li> 2: $ |0\\rangle|-\\rangle = \\frac{1}{\\sqrt{2}}|00\\rangle - \\frac{1}{\\sqrt{2}}|01\\rangle $ </li>\n",
    "    <li> 3: $ |1\\rangle|+\\rangle = \\frac{1}{\\sqrt{2}}|10\\rangle + \\frac{1}{\\sqrt{2}}|11\\rangle $ </li>\n",
    "    <li> 4: $ |+\\rangle|+\\rangle = \\frac{1}{2}|00\\rangle + \\frac{1}{2}|01\\rangle + \\frac{1}{2}|10\\rangle + \\frac{1}{2}|11\\rangle $ </li>\n",
    "    <li> 5: $ |+\\rangle|-\\rangle = \\frac{1}{2}|00\\rangle - \\frac{1}{2}|01\\rangle + \\frac{1}{2}|10\\rangle - \\frac{1}{2}|11\\rangle$ </li>\n",
    "</ul>\n",
    "To check your answers, verify that the outcomes you obtain when measuring the states you prepared match what you'd expect.\n",
    "</h4>"
   ]
  },
  {
   "cell_type": "markdown",
   "metadata": {},
   "source": [
    "<h4> Solution: </h4>"
   ]
  },
  {
   "cell_type": "code",
   "execution_count": 58,
   "metadata": {},
   "outputs": [
    {
     "data": {
      "image/png": "[encoded data removed]",
      "text/plain": [
       "<Figure size 504x360 with 1 Axes>"
      ]
     },
     "execution_count": 58,
     "metadata": {},
     "output_type": "execute_result"
    }
   ],
   "source": [
    "# Circuit 1 \n",
    "from qiskit import QuantumCircuit, Aer, execute\n",
    "from fractions import Fraction\n",
    "circ=QuantumCircuit(2,2)\n",
    "\n",
    "#prepare the initial state\n",
    "circ.h(0)\n",
    "\n",
    "#execute the circuit to get measurement probabilities\n",
    "circ.measure([0,1],[1,0])\n",
    "backend_sim = Aer.get_backend('qasm_simulator')\n",
    "sim = execute(circ, backend_sim, shots=1024)\n",
    "counts = sim.result().get_counts(circ)\n",
    "plot_histogram(counts)\n",
    "# circ.draw(\"mpl\")"
   ]
  },
  {
   "cell_type": "code",
   "execution_count": 59,
   "metadata": {},
   "outputs": [
    {
     "data": {
      "image/png": "[encoded data removed]",
      "text/plain": [
       "<Figure size 504x360 with 1 Axes>"
      ]
     },
     "execution_count": 59,
     "metadata": {},
     "output_type": "execute_result"
    }
   ],
   "source": [
    "# Circuit 2 \n",
    "from qiskit import QuantumCircuit, Aer, execute\n",
    "from fractions import Fraction\n",
    "circ=QuantumCircuit(2,2)\n",
    "\n",
    "#prepare the initial state\n",
    "circ.x(1)\n",
    "circ.h(1)\n",
    "\n",
    "#execute the circuit to get measurement probabilities\n",
    "circ.measure([0,1],[1,0])\n",
    "backend_sim = Aer.get_backend('qasm_simulator')\n",
    "sim = execute(circ, backend_sim, shots=1024)\n",
    "counts = sim.result().get_counts(circ)\n",
    "plot_histogram(counts)\n",
    "# circ.draw(\"mpl\")"
   ]
  },
  {
   "cell_type": "code",
   "execution_count": 60,
   "metadata": {},
   "outputs": [
    {
     "data": {
      "image/png": "[encoded data removed]",
      "text/plain": [
       "<Figure size 504x360 with 1 Axes>"
      ]
     },
     "execution_count": 60,
     "metadata": {},
     "output_type": "execute_result"
    }
   ],
   "source": [
    "# Circuit 3 \n",
    "from qiskit import QuantumCircuit, Aer, execute\n",
    "from fractions import Fraction\n",
    "circ=QuantumCircuit(2,2)\n",
    "\n",
    "#prepare the initial state\n",
    "circ.x(0)\n",
    "circ.h(1)\n",
    "\n",
    "#execute the circuit to get measurement probabilities\n",
    "circ.measure([0,1],[1,0])\n",
    "backend_sim = Aer.get_backend('qasm_simulator')\n",
    "sim = execute(circ, backend_sim, shots=1024)\n",
    "counts = sim.result().get_counts(circ)\n",
    "plot_histogram(counts)\n",
    "# circ.draw(\"mpl\")"
   ]
  },
  {
   "cell_type": "code",
   "execution_count": 61,
   "metadata": {},
   "outputs": [
    {
     "data": {
      "image/png": "[encoded data removed]",
      "text/plain": [
       "<Figure size 504x360 with 1 Axes>"
      ]
     },
     "execution_count": 61,
     "metadata": {},
     "output_type": "execute_result"
    }
   ],
   "source": [
    "# Circuit 4 \n",
    "from qiskit import QuantumCircuit, Aer, execute\n",
    "from fractions import Fraction\n",
    "circ=QuantumCircuit(2,2)\n",
    "\n",
    "#prepare the initial state\n",
    "circ.h(0)\n",
    "circ.h(1)\n",
    "\n",
    "#execute the circuit to get measurement probabilities\n",
    "circ.measure([0,1],[1,0])\n",
    "backend_sim = Aer.get_backend('qasm_simulator')\n",
    "sim = execute(circ, backend_sim, shots=1024)\n",
    "counts = sim.result().get_counts(circ)\n",
    "plot_histogram(counts)\n",
    "# circ.draw(\"mpl\")"
   ]
  },
  {
   "cell_type": "code",
   "execution_count": 62,
   "metadata": {},
   "outputs": [
    {
     "data": {
      "image/png": "[encoded data removed]",
      "text/plain": [
       "<Figure size 504x360 with 1 Axes>"
      ]
     },
     "execution_count": 62,
     "metadata": {},
     "output_type": "execute_result"
    }
   ],
   "source": [
    "# Circuit 5 \n",
    "from qiskit import QuantumCircuit, Aer, execute\n",
    "from fractions import Fraction\n",
    "circ=QuantumCircuit(2,2)\n",
    "\n",
    "#prepare the initial state\n",
    "circ.h(0)\n",
    "circ.x(1)\n",
    "circ.h(1)\n",
    "\n",
    "#execute the circuit to get measurement probabilities\n",
    "circ.measure([0,1],[1,0])\n",
    "backend_sim = Aer.get_backend('qasm_simulator')\n",
    "sim = execute(circ, backend_sim, shots=1024)\n",
    "counts = sim.result().get_counts(circ)\n",
    "plot_histogram(counts)\n",
    "# circ.draw(\"mpl\")"
   ]
  },
  {
   "cell_type": "markdown",
   "metadata": {},
   "source": [
    "<h4> 3. Sometimes, experimental quantum computing architectures are not universal. It might be the case that they can only apply CNOT gates in one direction. For example, they can use qubit 00 as the control and qubit 11 as the target, but not viceversa.\n",
    "What two qubit gate does the following two-qubit circuit implement? </h4>"
   ]
  },
  {
   "cell_type": "code",
   "execution_count": 64,
   "metadata": {},
   "outputs": [
    {
     "data": {
      "image/png": "[encoded data removed]",
      "text/plain": [
       "<Figure size 267.052x144.48 with 1 Axes>"
      ]
     },
     "execution_count": 64,
     "metadata": {},
     "output_type": "execute_result"
    }
   ],
   "source": [
    "example_circ.draw(\"mpl\")"
   ]
  },
  {
   "cell_type": "markdown",
   "metadata": {},
   "source": [
    "<h4> Test its action on the standard basis elements: $ |00\\rangle, |01\\rangle, |10\\rangle$ and $|11\\rangle$ </h4>"
   ]
  },
  {
   "cell_type": "markdown",
   "metadata": {},
   "source": [
    "<h4> Solution: </h4>"
   ]
  },
  {
   "cell_type": "code",
   "execution_count": 65,
   "metadata": {},
   "outputs": [
    {
     "name": "stdout",
     "output_type": "stream",
     "text": [
      "|00>:  1\n"
     ]
    }
   ],
   "source": [
    "# |00>\n",
    "from qiskit import QuantumCircuit, Aer, execute\n",
    "from fractions import Fraction\n",
    "circ=QuantumCircuit(2,2)\n",
    "\n",
    "#prepare the initial state\n",
    "# Nothing to prepare\n",
    "\n",
    "#implement circuit\n",
    "circ.h([0,1])\n",
    "circ.cx(0,1)\n",
    "circ.h([0,1])\n",
    "\n",
    "#execute the circuit\n",
    "circ.measure([0,1],[1,0])\n",
    "backend_sim = Aer.get_backend('qasm_simulator')\n",
    "sim = execute(circ, backend_sim, shots=1024)\n",
    "counts = sim.result().get_counts(circ)\n",
    "for i,j in counts.items():\n",
    "    print(\"|{}>: \".format(i), Fraction(j/1024).limit_denominator(4))"
   ]
  },
  {
   "cell_type": "code",
   "execution_count": 66,
   "metadata": {},
   "outputs": [
    {
     "name": "stdout",
     "output_type": "stream",
     "text": [
      "|11>:  1\n"
     ]
    }
   ],
   "source": [
    "# |01>\n",
    "from qiskit import QuantumCircuit, Aer, execute\n",
    "from fractions import Fraction\n",
    "circ=QuantumCircuit(2,2)\n",
    "\n",
    "#prepare the initial state\n",
    "circ.x(1)\n",
    "\n",
    "#implement circuit\n",
    "circ.h([0,1])\n",
    "circ.cx(0,1)\n",
    "circ.h([0,1])\n",
    "\n",
    "#execute the circuit\n",
    "circ.measure([0,1],[1,0])\n",
    "backend_sim = Aer.get_backend('qasm_simulator')\n",
    "sim = execute(circ, backend_sim, shots=1024)\n",
    "counts = sim.result().get_counts(circ)\n",
    "for i,j in counts.items():\n",
    "    print(\"|{}>: \".format(i), Fraction(j/1024).limit_denominator(4))"
   ]
  },
  {
   "cell_type": "code",
   "execution_count": 67,
   "metadata": {},
   "outputs": [
    {
     "name": "stdout",
     "output_type": "stream",
     "text": [
      "|10>:  1\n"
     ]
    }
   ],
   "source": [
    "# |10>\n",
    "from qiskit import QuantumCircuit, Aer, execute\n",
    "from fractions import Fraction\n",
    "circ=QuantumCircuit(2,2)\n",
    "\n",
    "#prepare the initial state\n",
    "circ.x(0)\n",
    "\n",
    "#implement circuit\n",
    "circ.h([0,1])\n",
    "circ.cx(0,1)\n",
    "circ.h([0,1])\n",
    "\n",
    "#execute the circuit\n",
    "circ.measure([0,1],[1,0])\n",
    "backend_sim = Aer.get_backend('qasm_simulator')\n",
    "sim = execute(circ, backend_sim, shots=1024)\n",
    "counts = sim.result().get_counts(circ)\n",
    "for i,j in counts.items():\n",
    "    print(\"|{}>: \".format(i), Fraction(j/1024).limit_denominator(4))"
   ]
  },
  {
   "cell_type": "code",
   "execution_count": 68,
   "metadata": {},
   "outputs": [
    {
     "name": "stdout",
     "output_type": "stream",
     "text": [
      "|01>:  1\n"
     ]
    }
   ],
   "source": [
    "# |11>\n",
    "from qiskit import QuantumCircuit, Aer, execute\n",
    "from fractions import Fraction\n",
    "circ=QuantumCircuit(2,2)\n",
    "\n",
    "#prepare the initial state\n",
    "circ.x([0,1])\n",
    "\n",
    "#implement circuit\n",
    "circ.h([0,1])\n",
    "circ.cx(0,1)\n",
    "circ.h([0,1])\n",
    "\n",
    "#execute the circuit\n",
    "circ.measure([0,1],[1,0])\n",
    "backend_sim = Aer.get_backend('qasm_simulator')\n",
    "sim = execute(circ, backend_sim, shots=1024)\n",
    "counts = sim.result().get_counts(circ)\n",
    "for i,j in counts.items():\n",
    "    print(\"|{}>: \".format(i), Fraction(j/1024).limit_denominator(4))"
   ]
  },
  {
   "cell_type": "markdown",
   "metadata": {},
   "source": [
    "<h4> Conclusion: This is an example of reversed CNOT gate - control qubit is $q_1$ and target qubit is $q_0$ </h4>"
   ]
  },
  {
   "cell_type": "markdown",
   "metadata": {},
   "source": [
    "<hr/>"
   ]
  }
 ],
 "metadata": {
  "kernelspec": {
   "display_name": "Python 3",
   "language": "python",
   "name": "python3"
  },
  "language_info": {
   "codemirror_mode": {
    "name": "ipython",
    "version": 3
   },
   "file_extension": ".py",
   "mimetype": "text/x-python",
   "name": "python",
   "nbconvert_exporter": "python",
   "pygments_lexer": "ipython3",
   "version": "3.6.10"
  }
 },
 "nbformat": 4,
 "nbformat_minor": 4
}
